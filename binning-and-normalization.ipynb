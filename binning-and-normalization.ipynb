{
 "cells": [
  {
   "cell_type": "code",
   "execution_count": 27,
   "id": "705eb88b-c139-4e58-a153-1ea81e414748",
   "metadata": {},
   "outputs": [],
   "source": [
    "import pandas as pd\n",
    "import numpy as np"
   ]
  },
  {
   "cell_type": "code",
   "execution_count": 16,
   "id": "a439b440-ff67-41c9-b961-58af74d1e47d",
   "metadata": {},
   "outputs": [
    {
     "data": {
      "text/html": [
       "<div>\n",
       "<style scoped>\n",
       "    .dataframe tbody tr th:only-of-type {\n",
       "        vertical-align: middle;\n",
       "    }\n",
       "\n",
       "    .dataframe tbody tr th {\n",
       "        vertical-align: top;\n",
       "    }\n",
       "\n",
       "    .dataframe thead th {\n",
       "        text-align: right;\n",
       "    }\n",
       "</style>\n",
       "<table border=\"1\" class=\"dataframe\">\n",
       "  <thead>\n",
       "    <tr style=\"text-align: right;\">\n",
       "      <th></th>\n",
       "      <th>mpg</th>\n",
       "      <th>cylinders</th>\n",
       "      <th>displacement</th>\n",
       "      <th>horsepower</th>\n",
       "      <th>weight</th>\n",
       "      <th>acceleration</th>\n",
       "      <th>model year</th>\n",
       "      <th>origin</th>\n",
       "      <th>car name</th>\n",
       "      <th>CAR Number</th>\n",
       "    </tr>\n",
       "  </thead>\n",
       "  <tbody>\n",
       "    <tr>\n",
       "      <th>0</th>\n",
       "      <td>18</td>\n",
       "      <td>8</td>\n",
       "      <td>307.0</td>\n",
       "      <td>130</td>\n",
       "      <td>3504</td>\n",
       "      <td>12.0</td>\n",
       "      <td>70.0</td>\n",
       "      <td>1</td>\n",
       "      <td>chevrolet chevelle malibu</td>\n",
       "      <td>L6V 043</td>\n",
       "    </tr>\n",
       "    <tr>\n",
       "      <th>1</th>\n",
       "      <td>15</td>\n",
       "      <td>8</td>\n",
       "      <td>350.0</td>\n",
       "      <td>165</td>\n",
       "      <td>3693</td>\n",
       "      <td>11.5</td>\n",
       "      <td>70.0</td>\n",
       "      <td>1</td>\n",
       "      <td>buick skylark 320</td>\n",
       "      <td>RTY079</td>\n",
       "    </tr>\n",
       "    <tr>\n",
       "      <th>2</th>\n",
       "      <td>18</td>\n",
       "      <td>8</td>\n",
       "      <td>318.0</td>\n",
       "      <td>150</td>\n",
       "      <td>3436</td>\n",
       "      <td>11.0</td>\n",
       "      <td>70.0</td>\n",
       "      <td>1</td>\n",
       "      <td>plymouth satellite</td>\n",
       "      <td>MTP600</td>\n",
       "    </tr>\n",
       "    <tr>\n",
       "      <th>3</th>\n",
       "      <td>16</td>\n",
       "      <td>8</td>\n",
       "      <td>304.0</td>\n",
       "      <td>150</td>\n",
       "      <td>3433</td>\n",
       "      <td>12.0</td>\n",
       "      <td>70.0</td>\n",
       "      <td>1</td>\n",
       "      <td>amc rebel sst</td>\n",
       "      <td>MNJ000</td>\n",
       "    </tr>\n",
       "    <tr>\n",
       "      <th>4</th>\n",
       "      <td>17</td>\n",
       "      <td>8</td>\n",
       "      <td>302.0</td>\n",
       "      <td>140</td>\n",
       "      <td>3449</td>\n",
       "      <td>10.5</td>\n",
       "      <td>70.0</td>\n",
       "      <td>1</td>\n",
       "      <td>ford torino</td>\n",
       "      <td>JEETMEET</td>\n",
       "    </tr>\n",
       "  </tbody>\n",
       "</table>\n",
       "</div>"
      ],
      "text/plain": [
       "   mpg  cylinders  displacement  horsepower  weight  acceleration  model year  \\\n",
       "0   18          8         307.0         130    3504          12.0        70.0   \n",
       "1   15          8         350.0         165    3693          11.5        70.0   \n",
       "2   18          8         318.0         150    3436          11.0        70.0   \n",
       "3   16          8         304.0         150    3433          12.0        70.0   \n",
       "4   17          8         302.0         140    3449          10.5        70.0   \n",
       "\n",
       "   origin                   car name CAR Number  \n",
       "0       1  chevrolet chevelle malibu    L6V 043  \n",
       "1       1          buick skylark 320     RTY079  \n",
       "2       1         plymouth satellite     MTP600  \n",
       "3       1              amc rebel sst     MNJ000  \n",
       "4       1                ford torino   JEETMEET  "
      ]
     },
     "execution_count": 16,
     "metadata": {},
     "output_type": "execute_result"
    }
   ],
   "source": [
    "file_name = '/Users/alina_boichenko/final-assignment/data-sets/auto-mpg.xlsx'\n",
    "df = pd.read_excel(file_name)\n",
    "df.to_csv('auto-mpg.csv', index=False)\n",
    "df.head()"
   ]
  },
  {
   "cell_type": "markdown",
   "id": "18dfdc90-dc9b-45e2-8920-a6ba47fac606",
   "metadata": {},
   "source": [
    "<h4> 1. Drop column Origin from the dataset. </h4>"
   ]
  },
  {
   "cell_type": "code",
   "execution_count": 17,
   "id": "d9cef0ee-54ca-4607-9da6-370a44b59f47",
   "metadata": {},
   "outputs": [
    {
     "data": {
      "text/html": [
       "<div>\n",
       "<style scoped>\n",
       "    .dataframe tbody tr th:only-of-type {\n",
       "        vertical-align: middle;\n",
       "    }\n",
       "\n",
       "    .dataframe tbody tr th {\n",
       "        vertical-align: top;\n",
       "    }\n",
       "\n",
       "    .dataframe thead th {\n",
       "        text-align: right;\n",
       "    }\n",
       "</style>\n",
       "<table border=\"1\" class=\"dataframe\">\n",
       "  <thead>\n",
       "    <tr style=\"text-align: right;\">\n",
       "      <th></th>\n",
       "      <th>mpg</th>\n",
       "      <th>cylinders</th>\n",
       "      <th>displacement</th>\n",
       "      <th>horsepower</th>\n",
       "      <th>weight</th>\n",
       "      <th>acceleration</th>\n",
       "      <th>model year</th>\n",
       "      <th>car name</th>\n",
       "      <th>CAR Number</th>\n",
       "    </tr>\n",
       "  </thead>\n",
       "  <tbody>\n",
       "    <tr>\n",
       "      <th>0</th>\n",
       "      <td>18</td>\n",
       "      <td>8</td>\n",
       "      <td>307.0</td>\n",
       "      <td>130</td>\n",
       "      <td>3504</td>\n",
       "      <td>12.0</td>\n",
       "      <td>70.0</td>\n",
       "      <td>chevrolet chevelle malibu</td>\n",
       "      <td>L6V 043</td>\n",
       "    </tr>\n",
       "    <tr>\n",
       "      <th>1</th>\n",
       "      <td>15</td>\n",
       "      <td>8</td>\n",
       "      <td>350.0</td>\n",
       "      <td>165</td>\n",
       "      <td>3693</td>\n",
       "      <td>11.5</td>\n",
       "      <td>70.0</td>\n",
       "      <td>buick skylark 320</td>\n",
       "      <td>RTY079</td>\n",
       "    </tr>\n",
       "    <tr>\n",
       "      <th>2</th>\n",
       "      <td>18</td>\n",
       "      <td>8</td>\n",
       "      <td>318.0</td>\n",
       "      <td>150</td>\n",
       "      <td>3436</td>\n",
       "      <td>11.0</td>\n",
       "      <td>70.0</td>\n",
       "      <td>plymouth satellite</td>\n",
       "      <td>MTP600</td>\n",
       "    </tr>\n",
       "    <tr>\n",
       "      <th>3</th>\n",
       "      <td>16</td>\n",
       "      <td>8</td>\n",
       "      <td>304.0</td>\n",
       "      <td>150</td>\n",
       "      <td>3433</td>\n",
       "      <td>12.0</td>\n",
       "      <td>70.0</td>\n",
       "      <td>amc rebel sst</td>\n",
       "      <td>MNJ000</td>\n",
       "    </tr>\n",
       "    <tr>\n",
       "      <th>4</th>\n",
       "      <td>17</td>\n",
       "      <td>8</td>\n",
       "      <td>302.0</td>\n",
       "      <td>140</td>\n",
       "      <td>3449</td>\n",
       "      <td>10.5</td>\n",
       "      <td>70.0</td>\n",
       "      <td>ford torino</td>\n",
       "      <td>JEETMEET</td>\n",
       "    </tr>\n",
       "  </tbody>\n",
       "</table>\n",
       "</div>"
      ],
      "text/plain": [
       "   mpg  cylinders  displacement  horsepower  weight  acceleration  model year  \\\n",
       "0   18          8         307.0         130    3504          12.0        70.0   \n",
       "1   15          8         350.0         165    3693          11.5        70.0   \n",
       "2   18          8         318.0         150    3436          11.0        70.0   \n",
       "3   16          8         304.0         150    3433          12.0        70.0   \n",
       "4   17          8         302.0         140    3449          10.5        70.0   \n",
       "\n",
       "                    car name CAR Number  \n",
       "0  chevrolet chevelle malibu    L6V 043  \n",
       "1          buick skylark 320     RTY079  \n",
       "2         plymouth satellite     MTP600  \n",
       "3              amc rebel sst     MNJ000  \n",
       "4                ford torino   JEETMEET  "
      ]
     },
     "execution_count": 17,
     "metadata": {},
     "output_type": "execute_result"
    }
   ],
   "source": [
    "df = df.drop(columns=['origin'])\n",
    "df.head()"
   ]
  },
  {
   "cell_type": "markdown",
   "id": "e31188ff-8803-472a-a6b7-6a080fcca2ee",
   "metadata": {},
   "source": [
    "<h4> 2. Find out all the missing values in the dataset and replace it with its most\n",
    "appropriate replacement. </h4>"
   ]
  },
  {
   "cell_type": "code",
   "execution_count": 19,
   "id": "e4bf3591-7e27-4eec-8c58-5a85ff5b5983",
   "metadata": {},
   "outputs": [
    {
     "data": {
      "text/plain": [
       "mpg             0\n",
       "cylinders       0\n",
       "displacement    0\n",
       "horsepower      0\n",
       "weight          0\n",
       "acceleration    2\n",
       "model year      2\n",
       "car name        0\n",
       "CAR Number      7\n",
       "dtype: int64"
      ]
     },
     "execution_count": 19,
     "metadata": {},
     "output_type": "execute_result"
    }
   ],
   "source": [
    "df.isnull().sum()"
   ]
  },
  {
   "cell_type": "code",
   "execution_count": 24,
   "id": "92a3011c-b340-4e0a-8b5b-f5c872a3a09e",
   "metadata": {},
   "outputs": [
    {
     "name": "stdout",
     "output_type": "stream",
     "text": [
      "mpg\n",
      "mpg\n",
      "False    98\n",
      "Name: count, dtype: int64\n",
      "\n",
      "cylinders\n",
      "cylinders\n",
      "False    98\n",
      "Name: count, dtype: int64\n",
      "\n",
      "displacement\n",
      "displacement\n",
      "False    98\n",
      "Name: count, dtype: int64\n",
      "\n",
      "horsepower\n",
      "horsepower\n",
      "False    98\n",
      "Name: count, dtype: int64\n",
      "\n",
      "weight\n",
      "weight\n",
      "False    98\n",
      "Name: count, dtype: int64\n",
      "\n",
      "acceleration\n",
      "acceleration\n",
      "False    96\n",
      "True      2\n",
      "Name: count, dtype: int64\n",
      "\n",
      "model year\n",
      "model year\n",
      "False    96\n",
      "True      2\n",
      "Name: count, dtype: int64\n",
      "\n",
      "car name\n",
      "car name\n",
      "False    98\n",
      "Name: count, dtype: int64\n",
      "\n",
      "CAR Number\n",
      "CAR Number\n",
      "False    91\n",
      "True      7\n",
      "Name: count, dtype: int64\n",
      "\n"
     ]
    }
   ],
   "source": [
    "missing_data = df.isnull()\n",
    "for column in missing_data.columns.values.tolist():\n",
    "    print(column)\n",
    "    print (missing_data[column].value_counts())\n",
    "    print(\"\")"
   ]
  },
  {
   "cell_type": "code",
   "execution_count": 25,
   "id": "34454743-db40-4a7b-8a36-d3ffdc0d5b57",
   "metadata": {},
   "outputs": [
    {
     "name": "stdout",
     "output_type": "stream",
     "text": [
      "Average of acceleration: 14.046875\n"
     ]
    }
   ],
   "source": [
    "avg_acceleration = df['acceleration'].astype('float').mean(axis=0)\n",
    "print('Average of acceleration:', avg_acceleration)"
   ]
  },
  {
   "cell_type": "code",
   "execution_count": 28,
   "id": "cb43249f-2ebe-4bbb-8b48-1878052a56ec",
   "metadata": {},
   "outputs": [],
   "source": [
    "df['acceleration'].replace(np.nan, avg_acceleration, inplace=True)"
   ]
  },
  {
   "cell_type": "code",
   "execution_count": 29,
   "id": "552123ba-a47e-462a-b7af-a916230b7a02",
   "metadata": {},
   "outputs": [
    {
     "name": "stdout",
     "output_type": "stream",
     "text": [
      "Average of model year: 71.26041666666667\n"
     ]
    }
   ],
   "source": [
    "avg_model_year = df['model year'].astype('float').mean(axis=0)\n",
    "print('Average of model year:', avg_model_year)"
   ]
  },
  {
   "cell_type": "code",
   "execution_count": 30,
   "id": "dcb01531-85d3-43a3-a55b-c35fcad88ccd",
   "metadata": {},
   "outputs": [
    {
     "name": "stderr",
     "output_type": "stream",
     "text": [
      "/var/folders/mk/kx1__1mx6dsfdz1t5jz1b7rm0000gn/T/ipykernel_5666/2225963125.py:1: FutureWarning: A value is trying to be set on a copy of a DataFrame or Series through chained assignment using an inplace method.\n",
      "The behavior will change in pandas 3.0. This inplace method will never work because the intermediate object on which we are setting values always behaves as a copy.\n",
      "\n",
      "For example, when doing 'df[col].method(value, inplace=True)', try using 'df.method({col: value}, inplace=True)' or df[col] = df[col].method(value) instead, to perform the operation inplace on the original object.\n",
      "\n",
      "\n",
      "  df['model year'].replace(np.nan, avg_model_year, inplace=True)\n"
     ]
    }
   ],
   "source": [
    "df['model year'].replace(np.nan, avg_model_year, inplace=True)"
   ]
  },
  {
   "cell_type": "code",
   "execution_count": 32,
   "id": "0a9a8473-5530-4820-9928-358dea268587",
   "metadata": {},
   "outputs": [
    {
     "data": {
      "text/plain": [
       "0      L6V 043\n",
       "1       RTY079\n",
       "2       MTP600\n",
       "3       MNJ000\n",
       "4     JEETMEET\n",
       "        ...   \n",
       "93      FGTEE4\n",
       "94      GTTYR6\n",
       "95     TTGGT53\n",
       "96     TGTYY67\n",
       "97      HUYT76\n",
       "Name: CAR Number, Length: 98, dtype: object"
      ]
     },
     "execution_count": 32,
     "metadata": {},
     "output_type": "execute_result"
    }
   ],
   "source": [
    "df['CAR Number']"
   ]
  },
  {
   "cell_type": "markdown",
   "id": "f9818e88-9285-4a5f-9884-692013f6924e",
   "metadata": {},
   "source": [
    "<h4>3. Find and remove duplicate entries for the column ‘CAR Number’</h4>"
   ]
  },
  {
   "cell_type": "code",
   "execution_count": 39,
   "id": "dde226ed-5558-4ade-af6b-5fcb7331e3b8",
   "metadata": {},
   "outputs": [
    {
     "data": {
      "text/plain": [
       "0     False\n",
       "1     False\n",
       "2     False\n",
       "3     False\n",
       "4     False\n",
       "      ...  \n",
       "93    False\n",
       "94    False\n",
       "95    False\n",
       "96    False\n",
       "97    False\n",
       "Length: 98, dtype: bool"
      ]
     },
     "execution_count": 39,
     "metadata": {},
     "output_type": "execute_result"
    }
   ],
   "source": [
    "duplicates = df.duplicated(subset=['CAR Number'])\n",
    "duplicates"
   ]
  },
  {
   "cell_type": "code",
   "execution_count": 40,
   "id": "e2a74f0a-a0d9-40ad-b911-517603ee1074",
   "metadata": {},
   "outputs": [
    {
     "data": {
      "text/html": [
       "<div>\n",
       "<style scoped>\n",
       "    .dataframe tbody tr th:only-of-type {\n",
       "        vertical-align: middle;\n",
       "    }\n",
       "\n",
       "    .dataframe tbody tr th {\n",
       "        vertical-align: top;\n",
       "    }\n",
       "\n",
       "    .dataframe thead th {\n",
       "        text-align: right;\n",
       "    }\n",
       "</style>\n",
       "<table border=\"1\" class=\"dataframe\">\n",
       "  <thead>\n",
       "    <tr style=\"text-align: right;\">\n",
       "      <th></th>\n",
       "      <th>mpg</th>\n",
       "      <th>cylinders</th>\n",
       "      <th>displacement</th>\n",
       "      <th>horsepower</th>\n",
       "      <th>weight</th>\n",
       "      <th>acceleration</th>\n",
       "      <th>model year</th>\n",
       "      <th>car name</th>\n",
       "      <th>CAR Number</th>\n",
       "    </tr>\n",
       "  </thead>\n",
       "  <tbody>\n",
       "    <tr>\n",
       "      <th>0</th>\n",
       "      <td>18</td>\n",
       "      <td>8</td>\n",
       "      <td>307.0</td>\n",
       "      <td>130</td>\n",
       "      <td>3504</td>\n",
       "      <td>12.0</td>\n",
       "      <td>70.0</td>\n",
       "      <td>chevrolet chevelle malibu</td>\n",
       "      <td>L6V 043</td>\n",
       "    </tr>\n",
       "    <tr>\n",
       "      <th>1</th>\n",
       "      <td>15</td>\n",
       "      <td>8</td>\n",
       "      <td>350.0</td>\n",
       "      <td>165</td>\n",
       "      <td>3693</td>\n",
       "      <td>11.5</td>\n",
       "      <td>70.0</td>\n",
       "      <td>buick skylark 320</td>\n",
       "      <td>RTY079</td>\n",
       "    </tr>\n",
       "    <tr>\n",
       "      <th>2</th>\n",
       "      <td>18</td>\n",
       "      <td>8</td>\n",
       "      <td>318.0</td>\n",
       "      <td>150</td>\n",
       "      <td>3436</td>\n",
       "      <td>11.0</td>\n",
       "      <td>70.0</td>\n",
       "      <td>plymouth satellite</td>\n",
       "      <td>MTP600</td>\n",
       "    </tr>\n",
       "    <tr>\n",
       "      <th>3</th>\n",
       "      <td>16</td>\n",
       "      <td>8</td>\n",
       "      <td>304.0</td>\n",
       "      <td>150</td>\n",
       "      <td>3433</td>\n",
       "      <td>12.0</td>\n",
       "      <td>70.0</td>\n",
       "      <td>amc rebel sst</td>\n",
       "      <td>MNJ000</td>\n",
       "    </tr>\n",
       "    <tr>\n",
       "      <th>4</th>\n",
       "      <td>17</td>\n",
       "      <td>8</td>\n",
       "      <td>302.0</td>\n",
       "      <td>140</td>\n",
       "      <td>3449</td>\n",
       "      <td>10.5</td>\n",
       "      <td>70.0</td>\n",
       "      <td>ford torino</td>\n",
       "      <td>JEETMEET</td>\n",
       "    </tr>\n",
       "    <tr>\n",
       "      <th>...</th>\n",
       "      <td>...</td>\n",
       "      <td>...</td>\n",
       "      <td>...</td>\n",
       "      <td>...</td>\n",
       "      <td>...</td>\n",
       "      <td>...</td>\n",
       "      <td>...</td>\n",
       "      <td>...</td>\n",
       "      <td>...</td>\n",
       "    </tr>\n",
       "    <tr>\n",
       "      <th>93</th>\n",
       "      <td>14</td>\n",
       "      <td>8</td>\n",
       "      <td>318.0</td>\n",
       "      <td>150</td>\n",
       "      <td>4237</td>\n",
       "      <td>14.5</td>\n",
       "      <td>73.0</td>\n",
       "      <td>plymouth fury gran sedan</td>\n",
       "      <td>FGTEE4</td>\n",
       "    </tr>\n",
       "    <tr>\n",
       "      <th>94</th>\n",
       "      <td>13</td>\n",
       "      <td>8</td>\n",
       "      <td>440.0</td>\n",
       "      <td>215</td>\n",
       "      <td>4735</td>\n",
       "      <td>11.0</td>\n",
       "      <td>73.0</td>\n",
       "      <td>chrysler new yorker brougham</td>\n",
       "      <td>GTTYR6</td>\n",
       "    </tr>\n",
       "    <tr>\n",
       "      <th>95</th>\n",
       "      <td>12</td>\n",
       "      <td>8</td>\n",
       "      <td>455.0</td>\n",
       "      <td>225</td>\n",
       "      <td>4951</td>\n",
       "      <td>11.0</td>\n",
       "      <td>73.0</td>\n",
       "      <td>buick electra 225 custom</td>\n",
       "      <td>TTGGT53</td>\n",
       "    </tr>\n",
       "    <tr>\n",
       "      <th>96</th>\n",
       "      <td>13</td>\n",
       "      <td>8</td>\n",
       "      <td>360.0</td>\n",
       "      <td>175</td>\n",
       "      <td>3821</td>\n",
       "      <td>11.0</td>\n",
       "      <td>73.0</td>\n",
       "      <td>amc ambassador brougham</td>\n",
       "      <td>TGTYY67</td>\n",
       "    </tr>\n",
       "    <tr>\n",
       "      <th>97</th>\n",
       "      <td>18</td>\n",
       "      <td>6</td>\n",
       "      <td>225.0</td>\n",
       "      <td>105</td>\n",
       "      <td>3121</td>\n",
       "      <td>16.5</td>\n",
       "      <td>73.0</td>\n",
       "      <td>plymouth valiant</td>\n",
       "      <td>HUYT76</td>\n",
       "    </tr>\n",
       "  </tbody>\n",
       "</table>\n",
       "<p>90 rows × 9 columns</p>\n",
       "</div>"
      ],
      "text/plain": [
       "    mpg  cylinders  displacement  horsepower  weight  acceleration  \\\n",
       "0    18          8         307.0         130    3504          12.0   \n",
       "1    15          8         350.0         165    3693          11.5   \n",
       "2    18          8         318.0         150    3436          11.0   \n",
       "3    16          8         304.0         150    3433          12.0   \n",
       "4    17          8         302.0         140    3449          10.5   \n",
       "..  ...        ...           ...         ...     ...           ...   \n",
       "93   14          8         318.0         150    4237          14.5   \n",
       "94   13          8         440.0         215    4735          11.0   \n",
       "95   12          8         455.0         225    4951          11.0   \n",
       "96   13          8         360.0         175    3821          11.0   \n",
       "97   18          6         225.0         105    3121          16.5   \n",
       "\n",
       "    model year                      car name CAR Number  \n",
       "0         70.0     chevrolet chevelle malibu    L6V 043  \n",
       "1         70.0             buick skylark 320     RTY079  \n",
       "2         70.0            plymouth satellite     MTP600  \n",
       "3         70.0                 amc rebel sst     MNJ000  \n",
       "4         70.0                   ford torino   JEETMEET  \n",
       "..         ...                           ...        ...  \n",
       "93        73.0      plymouth fury gran sedan     FGTEE4  \n",
       "94        73.0  chrysler new yorker brougham     GTTYR6  \n",
       "95        73.0      buick electra 225 custom    TTGGT53  \n",
       "96        73.0       amc ambassador brougham    TGTYY67  \n",
       "97        73.0              plymouth valiant     HUYT76  \n",
       "\n",
       "[90 rows x 9 columns]"
      ]
     },
     "execution_count": 40,
     "metadata": {},
     "output_type": "execute_result"
    }
   ],
   "source": [
    "df.drop_duplicates(subset=['CAR Number'])"
   ]
  },
  {
   "cell_type": "markdown",
   "id": "ac96662c-e88a-4115-b07f-e9b59f26a2be",
   "metadata": {},
   "source": [
    "<h4> 4.Get the basic insights:\n",
    "<ul>\n",
    "    <li> Display the first five and last five rows</li>\n",
    "    <li> Display all the column names in the dataset</li>\n",
    "    <li> Display the concise summary of your dataset</li>\n",
    "    <li> Display the name of the car with maximum number of horsepower</li>\n",
    "</ul>\n",
    "</h4>"
   ]
  },
  {
   "cell_type": "markdown",
   "id": "3a34432d-4e63-4798-9953-c55fabd69963",
   "metadata": {},
   "source": [
    "<h4>The first five and last five rows</h4>"
   ]
  },
  {
   "cell_type": "code",
   "execution_count": 42,
   "id": "404e2b57-88ef-4043-8569-099e67eb7e8a",
   "metadata": {},
   "outputs": [
    {
     "data": {
      "text/html": [
       "<div>\n",
       "<style scoped>\n",
       "    .dataframe tbody tr th:only-of-type {\n",
       "        vertical-align: middle;\n",
       "    }\n",
       "\n",
       "    .dataframe tbody tr th {\n",
       "        vertical-align: top;\n",
       "    }\n",
       "\n",
       "    .dataframe thead th {\n",
       "        text-align: right;\n",
       "    }\n",
       "</style>\n",
       "<table border=\"1\" class=\"dataframe\">\n",
       "  <thead>\n",
       "    <tr style=\"text-align: right;\">\n",
       "      <th></th>\n",
       "      <th>mpg</th>\n",
       "      <th>cylinders</th>\n",
       "      <th>displacement</th>\n",
       "      <th>horsepower</th>\n",
       "      <th>weight</th>\n",
       "      <th>acceleration</th>\n",
       "      <th>model year</th>\n",
       "      <th>car name</th>\n",
       "      <th>CAR Number</th>\n",
       "    </tr>\n",
       "  </thead>\n",
       "  <tbody>\n",
       "    <tr>\n",
       "      <th>0</th>\n",
       "      <td>18</td>\n",
       "      <td>8</td>\n",
       "      <td>307.0</td>\n",
       "      <td>130</td>\n",
       "      <td>3504</td>\n",
       "      <td>12.0</td>\n",
       "      <td>70.0</td>\n",
       "      <td>chevrolet chevelle malibu</td>\n",
       "      <td>L6V 043</td>\n",
       "    </tr>\n",
       "    <tr>\n",
       "      <th>1</th>\n",
       "      <td>15</td>\n",
       "      <td>8</td>\n",
       "      <td>350.0</td>\n",
       "      <td>165</td>\n",
       "      <td>3693</td>\n",
       "      <td>11.5</td>\n",
       "      <td>70.0</td>\n",
       "      <td>buick skylark 320</td>\n",
       "      <td>RTY079</td>\n",
       "    </tr>\n",
       "    <tr>\n",
       "      <th>2</th>\n",
       "      <td>18</td>\n",
       "      <td>8</td>\n",
       "      <td>318.0</td>\n",
       "      <td>150</td>\n",
       "      <td>3436</td>\n",
       "      <td>11.0</td>\n",
       "      <td>70.0</td>\n",
       "      <td>plymouth satellite</td>\n",
       "      <td>MTP600</td>\n",
       "    </tr>\n",
       "    <tr>\n",
       "      <th>3</th>\n",
       "      <td>16</td>\n",
       "      <td>8</td>\n",
       "      <td>304.0</td>\n",
       "      <td>150</td>\n",
       "      <td>3433</td>\n",
       "      <td>12.0</td>\n",
       "      <td>70.0</td>\n",
       "      <td>amc rebel sst</td>\n",
       "      <td>MNJ000</td>\n",
       "    </tr>\n",
       "    <tr>\n",
       "      <th>4</th>\n",
       "      <td>17</td>\n",
       "      <td>8</td>\n",
       "      <td>302.0</td>\n",
       "      <td>140</td>\n",
       "      <td>3449</td>\n",
       "      <td>10.5</td>\n",
       "      <td>70.0</td>\n",
       "      <td>ford torino</td>\n",
       "      <td>JEETMEET</td>\n",
       "    </tr>\n",
       "  </tbody>\n",
       "</table>\n",
       "</div>"
      ],
      "text/plain": [
       "   mpg  cylinders  displacement  horsepower  weight  acceleration  model year  \\\n",
       "0   18          8         307.0         130    3504          12.0        70.0   \n",
       "1   15          8         350.0         165    3693          11.5        70.0   \n",
       "2   18          8         318.0         150    3436          11.0        70.0   \n",
       "3   16          8         304.0         150    3433          12.0        70.0   \n",
       "4   17          8         302.0         140    3449          10.5        70.0   \n",
       "\n",
       "                    car name CAR Number  \n",
       "0  chevrolet chevelle malibu    L6V 043  \n",
       "1          buick skylark 320     RTY079  \n",
       "2         plymouth satellite     MTP600  \n",
       "3              amc rebel sst     MNJ000  \n",
       "4                ford torino   JEETMEET  "
      ]
     },
     "execution_count": 42,
     "metadata": {},
     "output_type": "execute_result"
    }
   ],
   "source": [
    "df.head()"
   ]
  },
  {
   "cell_type": "code",
   "execution_count": 43,
   "id": "846e321f-565e-45bf-8ae0-253b4bb92d5e",
   "metadata": {},
   "outputs": [
    {
     "data": {
      "text/html": [
       "<div>\n",
       "<style scoped>\n",
       "    .dataframe tbody tr th:only-of-type {\n",
       "        vertical-align: middle;\n",
       "    }\n",
       "\n",
       "    .dataframe tbody tr th {\n",
       "        vertical-align: top;\n",
       "    }\n",
       "\n",
       "    .dataframe thead th {\n",
       "        text-align: right;\n",
       "    }\n",
       "</style>\n",
       "<table border=\"1\" class=\"dataframe\">\n",
       "  <thead>\n",
       "    <tr style=\"text-align: right;\">\n",
       "      <th></th>\n",
       "      <th>mpg</th>\n",
       "      <th>cylinders</th>\n",
       "      <th>displacement</th>\n",
       "      <th>horsepower</th>\n",
       "      <th>weight</th>\n",
       "      <th>acceleration</th>\n",
       "      <th>model year</th>\n",
       "      <th>car name</th>\n",
       "      <th>CAR Number</th>\n",
       "    </tr>\n",
       "  </thead>\n",
       "  <tbody>\n",
       "    <tr>\n",
       "      <th>93</th>\n",
       "      <td>14</td>\n",
       "      <td>8</td>\n",
       "      <td>318.0</td>\n",
       "      <td>150</td>\n",
       "      <td>4237</td>\n",
       "      <td>14.5</td>\n",
       "      <td>73.0</td>\n",
       "      <td>plymouth fury gran sedan</td>\n",
       "      <td>FGTEE4</td>\n",
       "    </tr>\n",
       "    <tr>\n",
       "      <th>94</th>\n",
       "      <td>13</td>\n",
       "      <td>8</td>\n",
       "      <td>440.0</td>\n",
       "      <td>215</td>\n",
       "      <td>4735</td>\n",
       "      <td>11.0</td>\n",
       "      <td>73.0</td>\n",
       "      <td>chrysler new yorker brougham</td>\n",
       "      <td>GTTYR6</td>\n",
       "    </tr>\n",
       "    <tr>\n",
       "      <th>95</th>\n",
       "      <td>12</td>\n",
       "      <td>8</td>\n",
       "      <td>455.0</td>\n",
       "      <td>225</td>\n",
       "      <td>4951</td>\n",
       "      <td>11.0</td>\n",
       "      <td>73.0</td>\n",
       "      <td>buick electra 225 custom</td>\n",
       "      <td>TTGGT53</td>\n",
       "    </tr>\n",
       "    <tr>\n",
       "      <th>96</th>\n",
       "      <td>13</td>\n",
       "      <td>8</td>\n",
       "      <td>360.0</td>\n",
       "      <td>175</td>\n",
       "      <td>3821</td>\n",
       "      <td>11.0</td>\n",
       "      <td>73.0</td>\n",
       "      <td>amc ambassador brougham</td>\n",
       "      <td>TGTYY67</td>\n",
       "    </tr>\n",
       "    <tr>\n",
       "      <th>97</th>\n",
       "      <td>18</td>\n",
       "      <td>6</td>\n",
       "      <td>225.0</td>\n",
       "      <td>105</td>\n",
       "      <td>3121</td>\n",
       "      <td>16.5</td>\n",
       "      <td>73.0</td>\n",
       "      <td>plymouth valiant</td>\n",
       "      <td>HUYT76</td>\n",
       "    </tr>\n",
       "  </tbody>\n",
       "</table>\n",
       "</div>"
      ],
      "text/plain": [
       "    mpg  cylinders  displacement  horsepower  weight  acceleration  \\\n",
       "93   14          8         318.0         150    4237          14.5   \n",
       "94   13          8         440.0         215    4735          11.0   \n",
       "95   12          8         455.0         225    4951          11.0   \n",
       "96   13          8         360.0         175    3821          11.0   \n",
       "97   18          6         225.0         105    3121          16.5   \n",
       "\n",
       "    model year                      car name CAR Number  \n",
       "93        73.0      plymouth fury gran sedan     FGTEE4  \n",
       "94        73.0  chrysler new yorker brougham     GTTYR6  \n",
       "95        73.0      buick electra 225 custom    TTGGT53  \n",
       "96        73.0       amc ambassador brougham    TGTYY67  \n",
       "97        73.0              plymouth valiant     HUYT76  "
      ]
     },
     "execution_count": 43,
     "metadata": {},
     "output_type": "execute_result"
    }
   ],
   "source": [
    "df.tail()"
   ]
  },
  {
   "cell_type": "markdown",
   "id": "25c21776-766d-4811-bf3d-ac8be24f6205",
   "metadata": {},
   "source": [
    "<h4>All the column names in the dataset</h4>"
   ]
  },
  {
   "cell_type": "code",
   "execution_count": 47,
   "id": "0f25349f-cdc4-45a3-9db9-eca355a4a259",
   "metadata": {},
   "outputs": [
    {
     "data": {
      "text/plain": [
       "Index(['mpg', 'cylinders', 'displacement', 'horsepower', 'weight',\n",
       "       'acceleration', 'model year', 'car name', 'CAR Number'],\n",
       "      dtype='object')"
      ]
     },
     "execution_count": 47,
     "metadata": {},
     "output_type": "execute_result"
    }
   ],
   "source": [
    "df.columns"
   ]
  },
  {
   "cell_type": "markdown",
   "id": "e5b81884-aa2b-4be1-8fd4-8b4004356967",
   "metadata": {},
   "source": [
    "<h4>The concise summary of dataset</h4>"
   ]
  },
  {
   "cell_type": "code",
   "execution_count": 49,
   "id": "a9acd51a-82ca-4680-8088-2aa89dcf4d56",
   "metadata": {},
   "outputs": [
    {
     "name": "stdout",
     "output_type": "stream",
     "text": [
      "<class 'pandas.core.frame.DataFrame'>\n",
      "RangeIndex: 98 entries, 0 to 97\n",
      "Data columns (total 9 columns):\n",
      " #   Column        Non-Null Count  Dtype  \n",
      "---  ------        --------------  -----  \n",
      " 0   mpg           98 non-null     int64  \n",
      " 1   cylinders     98 non-null     int64  \n",
      " 2   displacement  98 non-null     float64\n",
      " 3   horsepower    98 non-null     int64  \n",
      " 4   weight        98 non-null     int64  \n",
      " 5   acceleration  98 non-null     float64\n",
      " 6   model year    98 non-null     float64\n",
      " 7   car name      98 non-null     object \n",
      " 8   CAR Number    91 non-null     object \n",
      "dtypes: float64(3), int64(4), object(2)\n",
      "memory usage: 7.0+ KB\n"
     ]
    }
   ],
   "source": [
    "df.info()"
   ]
  },
  {
   "cell_type": "markdown",
   "id": "d1aa5ae2-637c-415d-a72e-75ac500b2587",
   "metadata": {},
   "source": [
    "<h4>The name of the car with maximum number of horsepower</h4>"
   ]
  },
  {
   "cell_type": "code",
   "execution_count": 52,
   "id": "7d0f95ff-df79-40b4-ba06-4e9f48bad24b",
   "metadata": {},
   "outputs": [
    {
     "data": {
      "text/plain": [
       "'pontiac catalina'"
      ]
     },
     "execution_count": 52,
     "metadata": {},
     "output_type": "execute_result"
    }
   ],
   "source": [
    "df.loc[df['horsepower'].idxmax(), 'car name']"
   ]
  },
  {
   "cell_type": "markdown",
   "id": "3e985612-8f4d-4252-a622-49c5a203de8e",
   "metadata": {},
   "source": [
    "<h4>5. Change the name of the column \"mpg\" to \"L/100km\".</h4>"
   ]
  },
  {
   "cell_type": "code",
   "execution_count": 53,
   "id": "1ca34977-df5f-4242-a6e0-b26887d9bde6",
   "metadata": {},
   "outputs": [
    {
     "data": {
      "text/html": [
       "<div>\n",
       "<style scoped>\n",
       "    .dataframe tbody tr th:only-of-type {\n",
       "        vertical-align: middle;\n",
       "    }\n",
       "\n",
       "    .dataframe tbody tr th {\n",
       "        vertical-align: top;\n",
       "    }\n",
       "\n",
       "    .dataframe thead th {\n",
       "        text-align: right;\n",
       "    }\n",
       "</style>\n",
       "<table border=\"1\" class=\"dataframe\">\n",
       "  <thead>\n",
       "    <tr style=\"text-align: right;\">\n",
       "      <th></th>\n",
       "      <th>mpg</th>\n",
       "      <th>cylinders</th>\n",
       "      <th>displacement</th>\n",
       "      <th>horsepower</th>\n",
       "      <th>weight</th>\n",
       "      <th>acceleration</th>\n",
       "      <th>model year</th>\n",
       "      <th>car name</th>\n",
       "      <th>CAR Number</th>\n",
       "      <th>L/100km</th>\n",
       "    </tr>\n",
       "  </thead>\n",
       "  <tbody>\n",
       "    <tr>\n",
       "      <th>0</th>\n",
       "      <td>18</td>\n",
       "      <td>8</td>\n",
       "      <td>307.0</td>\n",
       "      <td>130</td>\n",
       "      <td>3504</td>\n",
       "      <td>12.0</td>\n",
       "      <td>70.0</td>\n",
       "      <td>chevrolet chevelle malibu</td>\n",
       "      <td>L6V 043</td>\n",
       "      <td>13.055556</td>\n",
       "    </tr>\n",
       "    <tr>\n",
       "      <th>1</th>\n",
       "      <td>15</td>\n",
       "      <td>8</td>\n",
       "      <td>350.0</td>\n",
       "      <td>165</td>\n",
       "      <td>3693</td>\n",
       "      <td>11.5</td>\n",
       "      <td>70.0</td>\n",
       "      <td>buick skylark 320</td>\n",
       "      <td>RTY079</td>\n",
       "      <td>15.666667</td>\n",
       "    </tr>\n",
       "    <tr>\n",
       "      <th>2</th>\n",
       "      <td>18</td>\n",
       "      <td>8</td>\n",
       "      <td>318.0</td>\n",
       "      <td>150</td>\n",
       "      <td>3436</td>\n",
       "      <td>11.0</td>\n",
       "      <td>70.0</td>\n",
       "      <td>plymouth satellite</td>\n",
       "      <td>MTP600</td>\n",
       "      <td>13.055556</td>\n",
       "    </tr>\n",
       "    <tr>\n",
       "      <th>3</th>\n",
       "      <td>16</td>\n",
       "      <td>8</td>\n",
       "      <td>304.0</td>\n",
       "      <td>150</td>\n",
       "      <td>3433</td>\n",
       "      <td>12.0</td>\n",
       "      <td>70.0</td>\n",
       "      <td>amc rebel sst</td>\n",
       "      <td>MNJ000</td>\n",
       "      <td>14.687500</td>\n",
       "    </tr>\n",
       "    <tr>\n",
       "      <th>4</th>\n",
       "      <td>17</td>\n",
       "      <td>8</td>\n",
       "      <td>302.0</td>\n",
       "      <td>140</td>\n",
       "      <td>3449</td>\n",
       "      <td>10.5</td>\n",
       "      <td>70.0</td>\n",
       "      <td>ford torino</td>\n",
       "      <td>JEETMEET</td>\n",
       "      <td>13.823529</td>\n",
       "    </tr>\n",
       "  </tbody>\n",
       "</table>\n",
       "</div>"
      ],
      "text/plain": [
       "   mpg  cylinders  displacement  horsepower  weight  acceleration  model year  \\\n",
       "0   18          8         307.0         130    3504          12.0        70.0   \n",
       "1   15          8         350.0         165    3693          11.5        70.0   \n",
       "2   18          8         318.0         150    3436          11.0        70.0   \n",
       "3   16          8         304.0         150    3433          12.0        70.0   \n",
       "4   17          8         302.0         140    3449          10.5        70.0   \n",
       "\n",
       "                    car name CAR Number    L/100km  \n",
       "0  chevrolet chevelle malibu    L6V 043  13.055556  \n",
       "1          buick skylark 320     RTY079  15.666667  \n",
       "2         plymouth satellite     MTP600  13.055556  \n",
       "3              amc rebel sst     MNJ000  14.687500  \n",
       "4                ford torino   JEETMEET  13.823529  "
      ]
     },
     "execution_count": 53,
     "metadata": {},
     "output_type": "execute_result"
    }
   ],
   "source": [
    "df[\"L/100km\"] = 235/df[\"mpg\"]\n",
    "df.head()"
   ]
  },
  {
   "cell_type": "markdown",
   "id": "bf9b9884-ac3a-4e8c-aea9-22ec2c515461",
   "metadata": {},
   "source": [
    "<h4>6. Normalize the column “Weight” so that the values range from 0 to 1</h4>"
   ]
  },
  {
   "cell_type": "code",
   "execution_count": 55,
   "id": "0db1db2e-2b33-4f81-ad20-1f512f8a0631",
   "metadata": {},
   "outputs": [
    {
     "data": {
      "text/plain": [
       "0     0.681712\n",
       "1     0.718482\n",
       "2     0.668482\n",
       "3     0.667899\n",
       "4     0.671012\n",
       "        ...   \n",
       "93    0.824319\n",
       "94    0.921206\n",
       "95    0.963230\n",
       "96    0.743385\n",
       "97    0.607198\n",
       "Name: weight, Length: 98, dtype: float64"
      ]
     },
     "execution_count": 55,
     "metadata": {},
     "output_type": "execute_result"
    }
   ],
   "source": [
    "df['weight'] = df['weight']/df['weight'].max()\n",
    "df['weight']"
   ]
  },
  {
   "cell_type": "markdown",
   "id": "c5abc3d7-9cfc-4d9f-a392-248d5a9e54ad",
   "metadata": {},
   "source": [
    "<h4>7. Binning the horsepower into categories \"high\", \"medium\", and \"low\" </h4>"
   ]
  },
  {
   "cell_type": "code",
   "execution_count": 56,
   "id": "829e2dd8-45bc-494a-83a8-090f40650c07",
   "metadata": {},
   "outputs": [],
   "source": [
    "df[\"horsepower\"]=df[\"horsepower\"].astype(int, copy=True)"
   ]
  },
  {
   "cell_type": "markdown",
   "id": "cdb08b6c-50e0-4c49-b4c1-287e1903f7d4",
   "metadata": {},
   "source": [
    "Plot the histogram of horsepower to see the distribution of horsepower."
   ]
  },
  {
   "cell_type": "code",
   "execution_count": 57,
   "id": "fbd2132c-51d9-45c0-995a-3f34065c5937",
   "metadata": {},
   "outputs": [
    {
     "data": {
      "text/plain": [
       "Text(0.5, 1.0, 'horsepower bins')"
      ]
     },
     "execution_count": 57,
     "metadata": {},
     "output_type": "execute_result"
    },
    {
     "data": {
      "image/png": "[encoded data removed]",
      "text/plain": [
       "<Figure size 640x480 with 1 Axes>"
      ]
     },
     "metadata": {},
     "output_type": "display_data"
    }
   ],
   "source": [
    "%matplotlib inline\n",
    "import matplotlib as plt\n",
    "from matplotlib import pyplot\n",
    "plt.pyplot.hist(df[\"horsepower\"])\n",
    "\n",
    "# set x/y labels and plot title\n",
    "plt.pyplot.xlabel(\"horsepower\")\n",
    "plt.pyplot.ylabel(\"count\")\n",
    "plt.pyplot.title(\"horsepower bins\")"
   ]
  },
  {
   "cell_type": "markdown",
   "id": "94b7ecee-24c0-40e2-b20e-86d098676e27",
   "metadata": {},
   "source": [
    "Build a bin array with a minimum value to a maximum value by using the bandwidth calculated above. The values will determine when one bin ends and another begins."
   ]
  },
  {
   "cell_type": "code",
   "execution_count": 58,
   "id": "93ef53f9-4578-4a57-a8df-3a69bcff677f",
   "metadata": {},
   "outputs": [
    {
     "data": {
      "text/plain": [
       "array([ 46.        , 105.66666667, 165.33333333, 225.        ])"
      ]
     },
     "execution_count": 58,
     "metadata": {},
     "output_type": "execute_result"
    }
   ],
   "source": [
    "bins = np.linspace(min(df[\"horsepower\"]), max(df[\"horsepower\"]), 4)\n",
    "bins"
   ]
  },
  {
   "cell_type": "markdown",
   "id": "8f95d936-0ae8-4038-9203-f12ae5fe5abd",
   "metadata": {},
   "source": [
    "Set group names"
   ]
  },
  {
   "cell_type": "code",
   "execution_count": 59,
   "id": "4b4e12fb-bfa2-40f8-a225-bf6ba114b773",
   "metadata": {},
   "outputs": [],
   "source": [
    "group_names = ['Low', 'Medium', 'High']"
   ]
  },
  {
   "cell_type": "code",
   "execution_count": 60,
   "id": "d44144ce-3f94-4f62-8cb6-e797b2c20600",
   "metadata": {},
   "outputs": [
    {
     "data": {
      "text/html": [
       "<div>\n",
       "<style scoped>\n",
       "    .dataframe tbody tr th:only-of-type {\n",
       "        vertical-align: middle;\n",
       "    }\n",
       "\n",
       "    .dataframe tbody tr th {\n",
       "        vertical-align: top;\n",
       "    }\n",
       "\n",
       "    .dataframe thead th {\n",
       "        text-align: right;\n",
       "    }\n",
       "</style>\n",
       "<table border=\"1\" class=\"dataframe\">\n",
       "  <thead>\n",
       "    <tr style=\"text-align: right;\">\n",
       "      <th></th>\n",
       "      <th>horsepower</th>\n",
       "      <th>horsepower-binned</th>\n",
       "    </tr>\n",
       "  </thead>\n",
       "  <tbody>\n",
       "    <tr>\n",
       "      <th>0</th>\n",
       "      <td>130</td>\n",
       "      <td>Medium</td>\n",
       "    </tr>\n",
       "    <tr>\n",
       "      <th>1</th>\n",
       "      <td>165</td>\n",
       "      <td>Medium</td>\n",
       "    </tr>\n",
       "    <tr>\n",
       "      <th>2</th>\n",
       "      <td>150</td>\n",
       "      <td>Medium</td>\n",
       "    </tr>\n",
       "    <tr>\n",
       "      <th>3</th>\n",
       "      <td>150</td>\n",
       "      <td>Medium</td>\n",
       "    </tr>\n",
       "    <tr>\n",
       "      <th>4</th>\n",
       "      <td>140</td>\n",
       "      <td>Medium</td>\n",
       "    </tr>\n",
       "    <tr>\n",
       "      <th>...</th>\n",
       "      <td>...</td>\n",
       "      <td>...</td>\n",
       "    </tr>\n",
       "    <tr>\n",
       "      <th>93</th>\n",
       "      <td>150</td>\n",
       "      <td>Medium</td>\n",
       "    </tr>\n",
       "    <tr>\n",
       "      <th>94</th>\n",
       "      <td>215</td>\n",
       "      <td>High</td>\n",
       "    </tr>\n",
       "    <tr>\n",
       "      <th>95</th>\n",
       "      <td>225</td>\n",
       "      <td>High</td>\n",
       "    </tr>\n",
       "    <tr>\n",
       "      <th>96</th>\n",
       "      <td>175</td>\n",
       "      <td>High</td>\n",
       "    </tr>\n",
       "    <tr>\n",
       "      <th>97</th>\n",
       "      <td>105</td>\n",
       "      <td>Low</td>\n",
       "    </tr>\n",
       "  </tbody>\n",
       "</table>\n",
       "<p>98 rows × 2 columns</p>\n",
       "</div>"
      ],
      "text/plain": [
       "    horsepower horsepower-binned\n",
       "0          130            Medium\n",
       "1          165            Medium\n",
       "2          150            Medium\n",
       "3          150            Medium\n",
       "4          140            Medium\n",
       "..         ...               ...\n",
       "93         150            Medium\n",
       "94         215              High\n",
       "95         225              High\n",
       "96         175              High\n",
       "97         105               Low\n",
       "\n",
       "[98 rows x 2 columns]"
      ]
     },
     "execution_count": 60,
     "metadata": {},
     "output_type": "execute_result"
    }
   ],
   "source": [
    "df['horsepower-binned'] = pd.cut(df['horsepower'], bins, labels=group_names, include_lowest=True )\n",
    "df[['horsepower','horsepower-binned']]"
   ]
  },
  {
   "cell_type": "markdown",
   "id": "7bc0b8ea-104a-4e35-b477-95293a2d73ff",
   "metadata": {},
   "source": [
    "See the number of vehicles in each bin:"
   ]
  },
  {
   "cell_type": "code",
   "execution_count": 61,
   "id": "7755d2a8-6b64-4f3e-a194-2b603d84fc3b",
   "metadata": {},
   "outputs": [
    {
     "data": {
      "text/plain": [
       "horsepower-binned\n",
       "Low       44\n",
       "Medium    30\n",
       "High      24\n",
       "Name: count, dtype: int64"
      ]
     },
     "execution_count": 61,
     "metadata": {},
     "output_type": "execute_result"
    }
   ],
   "source": [
    "df[\"horsepower-binned\"].value_counts()"
   ]
  },
  {
   "cell_type": "markdown",
   "id": "f1d025f9-dc2e-416b-9e91-b5f45eb4fa38",
   "metadata": {},
   "source": [
    "Plot the distribution of each bin:"
   ]
  },
  {
   "cell_type": "code",
   "execution_count": 62,
   "id": "4d0f3549-47af-4806-ae79-1efdd5f43a05",
   "metadata": {},
   "outputs": [
    {
     "data": {
      "text/plain": [
       "Text(0.5, 1.0, 'horsepower bins')"
      ]
     },
     "execution_count": 62,
     "metadata": {},
     "output_type": "execute_result"
    },
    {
     "data": {
      "image/png": "[encoded data removed]",
      "text/plain": [
       "<Figure size 640x480 with 1 Axes>"
      ]
     },
     "metadata": {},
     "output_type": "display_data"
    }
   ],
   "source": [
    "pyplot.bar(group_names, df[\"horsepower-binned\"].value_counts())\n",
    "\n",
    "# set x/y labels and plot title\n",
    "plt.pyplot.xlabel(\"horsepower\")\n",
    "plt.pyplot.ylabel(\"count\")\n",
    "plt.pyplot.title(\"horsepower bins\")"
   ]
  },
  {
   "cell_type": "markdown",
   "id": "fcf158fb-7830-46e5-ba09-577c4762e16e",
   "metadata": {},
   "source": [
    "<h4>8. Detect outliers using Z-score and remove them</h4>"
   ]
  },
  {
   "cell_type": "markdown",
   "id": "5370d75c-378c-4d7d-af42-4d0dc7b6d7b3",
   "metadata": {},
   "source": [
    "Standart deviation and mean"
   ]
  },
  {
   "cell_type": "code",
   "execution_count": 71,
   "id": "5ece7a25-1307-4ebb-aa65-fe2ff2cb3b18",
   "metadata": {},
   "outputs": [],
   "source": [
    "horsepower_std = np.nanstd(df.horsepower)"
   ]
  },
  {
   "cell_type": "code",
   "execution_count": 72,
   "id": "3a1c527e-54d8-4d01-a2ca-88d7098b5e48",
   "metadata": {},
   "outputs": [],
   "source": [
    "horsepower_mean = np.nanmean(df.horsepower)"
   ]
  },
  {
   "cell_type": "code",
   "execution_count": 73,
   "id": "a24607aa-6d2e-4310-81ce-f5b927802344",
   "metadata": {},
   "outputs": [
    {
     "name": "stdout",
     "output_type": "stream",
     "text": [
      "Mean horsepower is: 131.0204081632653\n",
      "Std horsepower is: 47.542672473850814\n"
     ]
    }
   ],
   "source": [
    "print(\"Mean horsepower is:\", horsepower_mean)\n",
    "print(\"Std horsepower is:\", horsepower_std)"
   ]
  },
  {
   "cell_type": "markdown",
   "id": "a97d75c1-bbd2-44e0-b0fe-8d8ab605f5fe",
   "metadata": {},
   "source": [
    "Calculate Z score:"
   ]
  },
  {
   "cell_type": "code",
   "execution_count": 74,
   "id": "711e40ce-df78-447b-aa28-c018cb118614",
   "metadata": {},
   "outputs": [
    {
     "data": {
      "text/html": [
       "<div>\n",
       "<style scoped>\n",
       "    .dataframe tbody tr th:only-of-type {\n",
       "        vertical-align: middle;\n",
       "    }\n",
       "\n",
       "    .dataframe tbody tr th {\n",
       "        vertical-align: top;\n",
       "    }\n",
       "\n",
       "    .dataframe thead th {\n",
       "        text-align: right;\n",
       "    }\n",
       "</style>\n",
       "<table border=\"1\" class=\"dataframe\">\n",
       "  <thead>\n",
       "    <tr style=\"text-align: right;\">\n",
       "      <th></th>\n",
       "      <th>mpg</th>\n",
       "      <th>cylinders</th>\n",
       "      <th>displacement</th>\n",
       "      <th>horsepower</th>\n",
       "      <th>weight</th>\n",
       "      <th>acceleration</th>\n",
       "      <th>model year</th>\n",
       "      <th>car name</th>\n",
       "      <th>CAR Number</th>\n",
       "      <th>L/100km</th>\n",
       "      <th>horsepower-binned</th>\n",
       "      <th>zscore_horsepower</th>\n",
       "    </tr>\n",
       "  </thead>\n",
       "  <tbody>\n",
       "    <tr>\n",
       "      <th>0</th>\n",
       "      <td>18</td>\n",
       "      <td>8</td>\n",
       "      <td>307.0</td>\n",
       "      <td>130</td>\n",
       "      <td>0.681712</td>\n",
       "      <td>12.0</td>\n",
       "      <td>70.0</td>\n",
       "      <td>chevrolet chevelle malibu</td>\n",
       "      <td>L6V 043</td>\n",
       "      <td>13.055556</td>\n",
       "      <td>Medium</td>\n",
       "      <td>-0.021463</td>\n",
       "    </tr>\n",
       "    <tr>\n",
       "      <th>1</th>\n",
       "      <td>15</td>\n",
       "      <td>8</td>\n",
       "      <td>350.0</td>\n",
       "      <td>165</td>\n",
       "      <td>0.718482</td>\n",
       "      <td>11.5</td>\n",
       "      <td>70.0</td>\n",
       "      <td>buick skylark 320</td>\n",
       "      <td>RTY079</td>\n",
       "      <td>15.666667</td>\n",
       "      <td>Medium</td>\n",
       "      <td>0.714718</td>\n",
       "    </tr>\n",
       "    <tr>\n",
       "      <th>2</th>\n",
       "      <td>18</td>\n",
       "      <td>8</td>\n",
       "      <td>318.0</td>\n",
       "      <td>150</td>\n",
       "      <td>0.668482</td>\n",
       "      <td>11.0</td>\n",
       "      <td>70.0</td>\n",
       "      <td>plymouth satellite</td>\n",
       "      <td>MTP600</td>\n",
       "      <td>13.055556</td>\n",
       "      <td>Medium</td>\n",
       "      <td>0.399212</td>\n",
       "    </tr>\n",
       "    <tr>\n",
       "      <th>3</th>\n",
       "      <td>16</td>\n",
       "      <td>8</td>\n",
       "      <td>304.0</td>\n",
       "      <td>150</td>\n",
       "      <td>0.667899</td>\n",
       "      <td>12.0</td>\n",
       "      <td>70.0</td>\n",
       "      <td>amc rebel sst</td>\n",
       "      <td>MNJ000</td>\n",
       "      <td>14.687500</td>\n",
       "      <td>Medium</td>\n",
       "      <td>0.399212</td>\n",
       "    </tr>\n",
       "    <tr>\n",
       "      <th>4</th>\n",
       "      <td>17</td>\n",
       "      <td>8</td>\n",
       "      <td>302.0</td>\n",
       "      <td>140</td>\n",
       "      <td>0.671012</td>\n",
       "      <td>10.5</td>\n",
       "      <td>70.0</td>\n",
       "      <td>ford torino</td>\n",
       "      <td>JEETMEET</td>\n",
       "      <td>13.823529</td>\n",
       "      <td>Medium</td>\n",
       "      <td>0.188874</td>\n",
       "    </tr>\n",
       "  </tbody>\n",
       "</table>\n",
       "</div>"
      ],
      "text/plain": [
       "   mpg  cylinders  displacement  horsepower    weight  acceleration  \\\n",
       "0   18          8         307.0         130  0.681712          12.0   \n",
       "1   15          8         350.0         165  0.718482          11.5   \n",
       "2   18          8         318.0         150  0.668482          11.0   \n",
       "3   16          8         304.0         150  0.667899          12.0   \n",
       "4   17          8         302.0         140  0.671012          10.5   \n",
       "\n",
       "   model year                   car name CAR Number    L/100km  \\\n",
       "0        70.0  chevrolet chevelle malibu    L6V 043  13.055556   \n",
       "1        70.0          buick skylark 320     RTY079  15.666667   \n",
       "2        70.0         plymouth satellite     MTP600  13.055556   \n",
       "3        70.0              amc rebel sst     MNJ000  14.687500   \n",
       "4        70.0                ford torino   JEETMEET  13.823529   \n",
       "\n",
       "  horsepower-binned  zscore_horsepower  \n",
       "0            Medium          -0.021463  \n",
       "1            Medium           0.714718  \n",
       "2            Medium           0.399212  \n",
       "3            Medium           0.399212  \n",
       "4            Medium           0.188874  "
      ]
     },
     "execution_count": 74,
     "metadata": {},
     "output_type": "execute_result"
    }
   ],
   "source": [
    "df['zscore_horsepower'] = (df.horsepower - horsepower_mean)/horsepower_std\n",
    "df.head()"
   ]
  },
  {
   "cell_type": "markdown",
   "id": "04c59b2c-b46a-4e38-a7b0-7d2e105efa1f",
   "metadata": {},
   "source": [
    "Extract the outliers/extreme values based on Z-score "
   ]
  },
  {
   "cell_type": "code",
   "execution_count": 80,
   "id": "56e5eb51-2594-4704-ba7c-7b6e8ff2714e",
   "metadata": {},
   "outputs": [
    {
     "data": {
      "text/html": [
       "<div>\n",
       "<style scoped>\n",
       "    .dataframe tbody tr th:only-of-type {\n",
       "        vertical-align: middle;\n",
       "    }\n",
       "\n",
       "    .dataframe tbody tr th {\n",
       "        vertical-align: top;\n",
       "    }\n",
       "\n",
       "    .dataframe thead th {\n",
       "        text-align: right;\n",
       "    }\n",
       "</style>\n",
       "<table border=\"1\" class=\"dataframe\">\n",
       "  <thead>\n",
       "    <tr style=\"text-align: right;\">\n",
       "      <th></th>\n",
       "      <th>mpg</th>\n",
       "      <th>cylinders</th>\n",
       "      <th>displacement</th>\n",
       "      <th>horsepower</th>\n",
       "      <th>weight</th>\n",
       "      <th>acceleration</th>\n",
       "      <th>model year</th>\n",
       "      <th>car name</th>\n",
       "      <th>CAR Number</th>\n",
       "      <th>L/100km</th>\n",
       "      <th>horsepower-binned</th>\n",
       "      <th>zscore_horsepower</th>\n",
       "    </tr>\n",
       "  </thead>\n",
       "  <tbody>\n",
       "  </tbody>\n",
       "</table>\n",
       "</div>"
      ],
      "text/plain": [
       "Empty DataFrame\n",
       "Columns: [mpg, cylinders, displacement, horsepower, weight, acceleration, model year, car name, CAR Number, L/100km, horsepower-binned, zscore_horsepower]\n",
       "Index: []"
      ]
     },
     "execution_count": 80,
     "metadata": {},
     "output_type": "execute_result"
    }
   ],
   "source": [
    "df[(df.zscore_horsepower<-3)|(df.zscore_horsepower>3)]"
   ]
  },
  {
   "cell_type": "markdown",
   "id": "4c47aa4e-1cdc-4f38-9a83-d87603d78f7f",
   "metadata": {},
   "source": [
    "We don't have any outliers with Z-score above 3 or below -3, it could mean that all data points fall within the range considered \"normal\" based on the Z-score threshold. We can try adjusting the threshold to see if any values fall outside of a wider range:"
   ]
  },
  {
   "cell_type": "code",
   "execution_count": 82,
   "id": "f6962dca-9af0-41ac-8256-c1bcbee434b8",
   "metadata": {},
   "outputs": [
    {
     "data": {
      "text/html": [
       "<div>\n",
       "<style scoped>\n",
       "    .dataframe tbody tr th:only-of-type {\n",
       "        vertical-align: middle;\n",
       "    }\n",
       "\n",
       "    .dataframe tbody tr th {\n",
       "        vertical-align: top;\n",
       "    }\n",
       "\n",
       "    .dataframe thead th {\n",
       "        text-align: right;\n",
       "    }\n",
       "</style>\n",
       "<table border=\"1\" class=\"dataframe\">\n",
       "  <thead>\n",
       "    <tr style=\"text-align: right;\">\n",
       "      <th></th>\n",
       "      <th>mpg</th>\n",
       "      <th>cylinders</th>\n",
       "      <th>displacement</th>\n",
       "      <th>horsepower</th>\n",
       "      <th>weight</th>\n",
       "      <th>acceleration</th>\n",
       "      <th>model year</th>\n",
       "      <th>car name</th>\n",
       "      <th>CAR Number</th>\n",
       "      <th>L/100km</th>\n",
       "      <th>horsepower-binned</th>\n",
       "      <th>zscore_horsepower</th>\n",
       "    </tr>\n",
       "  </thead>\n",
       "  <tbody>\n",
       "    <tr>\n",
       "      <th>6</th>\n",
       "      <td>14</td>\n",
       "      <td>8</td>\n",
       "      <td>454.0</td>\n",
       "      <td>220</td>\n",
       "      <td>0.847082</td>\n",
       "      <td>9.0</td>\n",
       "      <td>70.0</td>\n",
       "      <td>chevrolet impala</td>\n",
       "      <td>NEET098</td>\n",
       "      <td>16.785714</td>\n",
       "      <td>High</td>\n",
       "      <td>1.871573</td>\n",
       "    </tr>\n",
       "    <tr>\n",
       "      <th>8</th>\n",
       "      <td>14</td>\n",
       "      <td>8</td>\n",
       "      <td>455.0</td>\n",
       "      <td>225</td>\n",
       "      <td>0.860895</td>\n",
       "      <td>10.0</td>\n",
       "      <td>70.0</td>\n",
       "      <td>pontiac catalina</td>\n",
       "      <td>NMTL580</td>\n",
       "      <td>16.785714</td>\n",
       "      <td>High</td>\n",
       "      <td>1.976742</td>\n",
       "    </tr>\n",
       "    <tr>\n",
       "      <th>13</th>\n",
       "      <td>14</td>\n",
       "      <td>8</td>\n",
       "      <td>455.0</td>\n",
       "      <td>225</td>\n",
       "      <td>0.600389</td>\n",
       "      <td>10.0</td>\n",
       "      <td>70.0</td>\n",
       "      <td>buick estate wagon (sw)</td>\n",
       "      <td>YUTN78</td>\n",
       "      <td>16.785714</td>\n",
       "      <td>High</td>\n",
       "      <td>1.976742</td>\n",
       "    </tr>\n",
       "    <tr>\n",
       "      <th>95</th>\n",
       "      <td>12</td>\n",
       "      <td>8</td>\n",
       "      <td>455.0</td>\n",
       "      <td>225</td>\n",
       "      <td>0.963230</td>\n",
       "      <td>11.0</td>\n",
       "      <td>73.0</td>\n",
       "      <td>buick electra 225 custom</td>\n",
       "      <td>TTGGT53</td>\n",
       "      <td>19.583333</td>\n",
       "      <td>High</td>\n",
       "      <td>1.976742</td>\n",
       "    </tr>\n",
       "  </tbody>\n",
       "</table>\n",
       "</div>"
      ],
      "text/plain": [
       "    mpg  cylinders  displacement  horsepower    weight  acceleration  \\\n",
       "6    14          8         454.0         220  0.847082           9.0   \n",
       "8    14          8         455.0         225  0.860895          10.0   \n",
       "13   14          8         455.0         225  0.600389          10.0   \n",
       "95   12          8         455.0         225  0.963230          11.0   \n",
       "\n",
       "    model year                  car name CAR Number    L/100km  \\\n",
       "6         70.0          chevrolet impala    NEET098  16.785714   \n",
       "8         70.0          pontiac catalina    NMTL580  16.785714   \n",
       "13        70.0   buick estate wagon (sw)     YUTN78  16.785714   \n",
       "95        73.0  buick electra 225 custom    TTGGT53  19.583333   \n",
       "\n",
       "   horsepower-binned  zscore_horsepower  \n",
       "6               High           1.871573  \n",
       "8               High           1.976742  \n",
       "13              High           1.976742  \n",
       "95              High           1.976742  "
      ]
     },
     "execution_count": 82,
     "metadata": {},
     "output_type": "execute_result"
    }
   ],
   "source": [
    "df[(df.zscore_horsepower<-1.8)|(df.zscore_horsepower>1.8)]"
   ]
  },
  {
   "cell_type": "markdown",
   "id": "6e003cdf-8ee3-49fe-ad8d-96e60f296f75",
   "metadata": {},
   "source": [
    "Remove the observations containing the outliers"
   ]
  },
  {
   "cell_type": "code",
   "execution_count": 85,
   "id": "26a3a93f-3f29-45ad-a804-41ecfbe65635",
   "metadata": {},
   "outputs": [
    {
     "data": {
      "text/html": [
       "<div>\n",
       "<style scoped>\n",
       "    .dataframe tbody tr th:only-of-type {\n",
       "        vertical-align: middle;\n",
       "    }\n",
       "\n",
       "    .dataframe tbody tr th {\n",
       "        vertical-align: top;\n",
       "    }\n",
       "\n",
       "    .dataframe thead th {\n",
       "        text-align: right;\n",
       "    }\n",
       "</style>\n",
       "<table border=\"1\" class=\"dataframe\">\n",
       "  <thead>\n",
       "    <tr style=\"text-align: right;\">\n",
       "      <th></th>\n",
       "      <th>mpg</th>\n",
       "      <th>cylinders</th>\n",
       "      <th>displacement</th>\n",
       "      <th>horsepower</th>\n",
       "      <th>weight</th>\n",
       "      <th>acceleration</th>\n",
       "      <th>model year</th>\n",
       "      <th>car name</th>\n",
       "      <th>CAR Number</th>\n",
       "      <th>L/100km</th>\n",
       "      <th>horsepower-binned</th>\n",
       "      <th>zscore_horsepower</th>\n",
       "    </tr>\n",
       "  </thead>\n",
       "  <tbody>\n",
       "    <tr>\n",
       "      <th>0</th>\n",
       "      <td>18</td>\n",
       "      <td>8</td>\n",
       "      <td>307.0</td>\n",
       "      <td>130</td>\n",
       "      <td>0.681712</td>\n",
       "      <td>12.0</td>\n",
       "      <td>70.0</td>\n",
       "      <td>chevrolet chevelle malibu</td>\n",
       "      <td>L6V 043</td>\n",
       "      <td>13.055556</td>\n",
       "      <td>Medium</td>\n",
       "      <td>-0.021463</td>\n",
       "    </tr>\n",
       "    <tr>\n",
       "      <th>1</th>\n",
       "      <td>15</td>\n",
       "      <td>8</td>\n",
       "      <td>350.0</td>\n",
       "      <td>165</td>\n",
       "      <td>0.718482</td>\n",
       "      <td>11.5</td>\n",
       "      <td>70.0</td>\n",
       "      <td>buick skylark 320</td>\n",
       "      <td>RTY079</td>\n",
       "      <td>15.666667</td>\n",
       "      <td>Medium</td>\n",
       "      <td>0.714718</td>\n",
       "    </tr>\n",
       "    <tr>\n",
       "      <th>2</th>\n",
       "      <td>18</td>\n",
       "      <td>8</td>\n",
       "      <td>318.0</td>\n",
       "      <td>150</td>\n",
       "      <td>0.668482</td>\n",
       "      <td>11.0</td>\n",
       "      <td>70.0</td>\n",
       "      <td>plymouth satellite</td>\n",
       "      <td>MTP600</td>\n",
       "      <td>13.055556</td>\n",
       "      <td>Medium</td>\n",
       "      <td>0.399212</td>\n",
       "    </tr>\n",
       "    <tr>\n",
       "      <th>3</th>\n",
       "      <td>16</td>\n",
       "      <td>8</td>\n",
       "      <td>304.0</td>\n",
       "      <td>150</td>\n",
       "      <td>0.667899</td>\n",
       "      <td>12.0</td>\n",
       "      <td>70.0</td>\n",
       "      <td>amc rebel sst</td>\n",
       "      <td>MNJ000</td>\n",
       "      <td>14.687500</td>\n",
       "      <td>Medium</td>\n",
       "      <td>0.399212</td>\n",
       "    </tr>\n",
       "    <tr>\n",
       "      <th>4</th>\n",
       "      <td>17</td>\n",
       "      <td>8</td>\n",
       "      <td>302.0</td>\n",
       "      <td>140</td>\n",
       "      <td>0.671012</td>\n",
       "      <td>10.5</td>\n",
       "      <td>70.0</td>\n",
       "      <td>ford torino</td>\n",
       "      <td>JEETMEET</td>\n",
       "      <td>13.823529</td>\n",
       "      <td>Medium</td>\n",
       "      <td>0.188874</td>\n",
       "    </tr>\n",
       "    <tr>\n",
       "      <th>...</th>\n",
       "      <td>...</td>\n",
       "      <td>...</td>\n",
       "      <td>...</td>\n",
       "      <td>...</td>\n",
       "      <td>...</td>\n",
       "      <td>...</td>\n",
       "      <td>...</td>\n",
       "      <td>...</td>\n",
       "      <td>...</td>\n",
       "      <td>...</td>\n",
       "      <td>...</td>\n",
       "      <td>...</td>\n",
       "    </tr>\n",
       "    <tr>\n",
       "      <th>92</th>\n",
       "      <td>13</td>\n",
       "      <td>8</td>\n",
       "      <td>351.0</td>\n",
       "      <td>158</td>\n",
       "      <td>0.848833</td>\n",
       "      <td>13.0</td>\n",
       "      <td>73.0</td>\n",
       "      <td>ford ltd</td>\n",
       "      <td>GTH654</td>\n",
       "      <td>18.076923</td>\n",
       "      <td>Medium</td>\n",
       "      <td>0.567482</td>\n",
       "    </tr>\n",
       "    <tr>\n",
       "      <th>93</th>\n",
       "      <td>14</td>\n",
       "      <td>8</td>\n",
       "      <td>318.0</td>\n",
       "      <td>150</td>\n",
       "      <td>0.824319</td>\n",
       "      <td>14.5</td>\n",
       "      <td>73.0</td>\n",
       "      <td>plymouth fury gran sedan</td>\n",
       "      <td>FGTEE4</td>\n",
       "      <td>16.785714</td>\n",
       "      <td>Medium</td>\n",
       "      <td>0.399212</td>\n",
       "    </tr>\n",
       "    <tr>\n",
       "      <th>94</th>\n",
       "      <td>13</td>\n",
       "      <td>8</td>\n",
       "      <td>440.0</td>\n",
       "      <td>215</td>\n",
       "      <td>0.921206</td>\n",
       "      <td>11.0</td>\n",
       "      <td>73.0</td>\n",
       "      <td>chrysler new yorker brougham</td>\n",
       "      <td>GTTYR6</td>\n",
       "      <td>18.076923</td>\n",
       "      <td>High</td>\n",
       "      <td>1.766405</td>\n",
       "    </tr>\n",
       "    <tr>\n",
       "      <th>96</th>\n",
       "      <td>13</td>\n",
       "      <td>8</td>\n",
       "      <td>360.0</td>\n",
       "      <td>175</td>\n",
       "      <td>0.743385</td>\n",
       "      <td>11.0</td>\n",
       "      <td>73.0</td>\n",
       "      <td>amc ambassador brougham</td>\n",
       "      <td>TGTYY67</td>\n",
       "      <td>18.076923</td>\n",
       "      <td>High</td>\n",
       "      <td>0.925055</td>\n",
       "    </tr>\n",
       "    <tr>\n",
       "      <th>97</th>\n",
       "      <td>18</td>\n",
       "      <td>6</td>\n",
       "      <td>225.0</td>\n",
       "      <td>105</td>\n",
       "      <td>0.607198</td>\n",
       "      <td>16.5</td>\n",
       "      <td>73.0</td>\n",
       "      <td>plymouth valiant</td>\n",
       "      <td>HUYT76</td>\n",
       "      <td>13.055556</td>\n",
       "      <td>Low</td>\n",
       "      <td>-0.547306</td>\n",
       "    </tr>\n",
       "  </tbody>\n",
       "</table>\n",
       "<p>94 rows × 12 columns</p>\n",
       "</div>"
      ],
      "text/plain": [
       "    mpg  cylinders  displacement  horsepower    weight  acceleration  \\\n",
       "0    18          8         307.0         130  0.681712          12.0   \n",
       "1    15          8         350.0         165  0.718482          11.5   \n",
       "2    18          8         318.0         150  0.668482          11.0   \n",
       "3    16          8         304.0         150  0.667899          12.0   \n",
       "4    17          8         302.0         140  0.671012          10.5   \n",
       "..  ...        ...           ...         ...       ...           ...   \n",
       "92   13          8         351.0         158  0.848833          13.0   \n",
       "93   14          8         318.0         150  0.824319          14.5   \n",
       "94   13          8         440.0         215  0.921206          11.0   \n",
       "96   13          8         360.0         175  0.743385          11.0   \n",
       "97   18          6         225.0         105  0.607198          16.5   \n",
       "\n",
       "    model year                      car name CAR Number    L/100km  \\\n",
       "0         70.0     chevrolet chevelle malibu    L6V 043  13.055556   \n",
       "1         70.0             buick skylark 320     RTY079  15.666667   \n",
       "2         70.0            plymouth satellite     MTP600  13.055556   \n",
       "3         70.0                 amc rebel sst     MNJ000  14.687500   \n",
       "4         70.0                   ford torino   JEETMEET  13.823529   \n",
       "..         ...                           ...        ...        ...   \n",
       "92        73.0                      ford ltd     GTH654  18.076923   \n",
       "93        73.0      plymouth fury gran sedan     FGTEE4  16.785714   \n",
       "94        73.0  chrysler new yorker brougham     GTTYR6  18.076923   \n",
       "96        73.0       amc ambassador brougham    TGTYY67  18.076923   \n",
       "97        73.0              plymouth valiant     HUYT76  13.055556   \n",
       "\n",
       "   horsepower-binned  zscore_horsepower  \n",
       "0             Medium          -0.021463  \n",
       "1             Medium           0.714718  \n",
       "2             Medium           0.399212  \n",
       "3             Medium           0.399212  \n",
       "4             Medium           0.188874  \n",
       "..               ...                ...  \n",
       "92            Medium           0.567482  \n",
       "93            Medium           0.399212  \n",
       "94              High           1.766405  \n",
       "96              High           0.925055  \n",
       "97               Low          -0.547306  \n",
       "\n",
       "[94 rows x 12 columns]"
      ]
     },
     "execution_count": 85,
     "metadata": {},
     "output_type": "execute_result"
    }
   ],
   "source": [
    "df_no_outliers = df[np.abs(df['zscore_horsepower']) < 1.8]\n",
    "df_no_outliers"
   ]
  },
  {
   "cell_type": "code",
   "execution_count": null,
   "id": "6f0ae5f0-692a-4f7f-ba69-b81b8c00119e",
   "metadata": {},
   "outputs": [],
   "source": []
  }
 ],
 "metadata": {
  "kernelspec": {
   "display_name": "Python 3.13",
   "language": "python",
   "name": "python3.13"
  },
  "language_info": {
   "codemirror_mode": {
    "name": "ipython",
    "version": 3
   },
   "file_extension": ".py",
   "mimetype": "text/x-python",
   "name": "python",
   "nbconvert_exporter": "python",
   "pygments_lexer": "ipython3",
   "version": "3.13.0"
  }
 },
 "nbformat": 4,
 "nbformat_minor": 5
}
